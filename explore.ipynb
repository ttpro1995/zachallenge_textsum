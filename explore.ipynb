{
 "cells": [
  {
   "cell_type": "code",
   "execution_count": 1,
   "metadata": {},
   "outputs": [],
   "source": [
    "path = \"data/train.jsonl\""
   ]
  },
  {
   "cell_type": "code",
   "execution_count": 57,
   "metadata": {},
   "outputs": [],
   "source": [
    "# in case you don't have file downloaded yet\n",
    "# or run on google colab \n",
    "gist_path = \"https://gist.githubusercontent.com/ttpro1995/391c8df70dd780a64a544cce8d40de03/raw/c2374358d7a6a2afd88826dcd8dbb673918f42ae/train.jsonl\""
   ]
  },
  {
   "cell_type": "code",
   "execution_count": 19,
   "metadata": {},
   "outputs": [],
   "source": [
    "import pandas as pd\n",
    "from bs4 import BeautifulSoup\n",
    "import json"
   ]
  },
  {
   "cell_type": "code",
   "execution_count": 51,
   "metadata": {},
   "outputs": [],
   "source": [
    "df = pd.read_json(gist_path, lines=True)"
   ]
  },
  {
   "cell_type": "code",
   "execution_count": 54,
   "metadata": {},
   "outputs": [
    {
     "data": {
      "text/plain": [
       "train_id           701\n",
       "original_doc       701\n",
       "html_annotation    701\n",
       "modified_time      701\n",
       "status             351\n",
       "match_summary      701\n",
       "dtype: int64"
      ]
     },
     "execution_count": 54,
     "metadata": {},
     "output_type": "execute_result"
    }
   ],
   "source": [
    "df.count()"
   ]
  },
  {
   "cell_type": "code",
   "execution_count": 52,
   "metadata": {},
   "outputs": [
    {
     "data": {
      "text/html": [
       "<div>\n",
       "<style scoped>\n",
       "    .dataframe tbody tr th:only-of-type {\n",
       "        vertical-align: middle;\n",
       "    }\n",
       "\n",
       "    .dataframe tbody tr th {\n",
       "        vertical-align: top;\n",
       "    }\n",
       "\n",
       "    .dataframe thead th {\n",
       "        text-align: right;\n",
       "    }\n",
       "</style>\n",
       "<table border=\"1\" class=\"dataframe\">\n",
       "  <thead>\n",
       "    <tr style=\"text-align: right;\">\n",
       "      <th></th>\n",
       "      <th>train_id</th>\n",
       "      <th>original_doc</th>\n",
       "      <th>html_annotation</th>\n",
       "      <th>modified_time</th>\n",
       "      <th>status</th>\n",
       "      <th>match_summary</th>\n",
       "    </tr>\n",
       "  </thead>\n",
       "  <tbody>\n",
       "    <tr>\n",
       "      <th>0</th>\n",
       "      <td>21223385</td>\n",
       "      <td>{'_id': '21223385', '_source': {'body': [{'con...</td>\n",
       "      <td>[&lt;span&gt;Video tổng hợp trận đấu:&lt;/span&gt;, &lt;span ...</td>\n",
       "      <td>2020-10-15 11:37:37.208116</td>\n",
       "      <td>accept</td>\n",
       "      <td>{'players': {'team1': 'Chelsea', 'team2': 'Sto...</td>\n",
       "    </tr>\n",
       "    <tr>\n",
       "      <th>1</th>\n",
       "      <td>21231305</td>\n",
       "      <td>{'_id': '21231305', '_source': {'body': [{'con...</td>\n",
       "      <td>[&lt;span class=\"tag match_info\" data=\":match_inf...</td>\n",
       "      <td>2020-10-19 21:54:18.727348</td>\n",
       "      <td>accept</td>\n",
       "      <td>{'players': {'team1': 'Arsenal', 'team2': 'Cry...</td>\n",
       "    </tr>\n",
       "    <tr>\n",
       "      <th>2</th>\n",
       "      <td>21231956</td>\n",
       "      <td>{'_id': '21231956', '_source': {'body': [{'con...</td>\n",
       "      <td>[&lt;span class=\"tag match_info\" data=\":match_inf...</td>\n",
       "      <td>2020-10-19 22:40:33.078740</td>\n",
       "      <td>accept</td>\n",
       "      <td>{'players': {'team1': 'Chelsea', 'team2': 'Sto...</td>\n",
       "    </tr>\n",
       "    <tr>\n",
       "      <th>3</th>\n",
       "      <td>21231957</td>\n",
       "      <td>{'_id': '21231957', '_source': {'body': [{'con...</td>\n",
       "      <td>[&lt;span class=\"tag match_info\" data=\":match_inf...</td>\n",
       "      <td>2020-10-21 08:57:08.463983</td>\n",
       "      <td>accept</td>\n",
       "      <td>{'players': {'team1': 'Watford', 'team2': 'Tot...</td>\n",
       "    </tr>\n",
       "    <tr>\n",
       "      <th>4</th>\n",
       "      <td>21231959</td>\n",
       "      <td>{'_id': '21231959', '_source': {'body': [{'con...</td>\n",
       "      <td>[&lt;span class=\"tag match_info\" data=\":match_inf...</td>\n",
       "      <td>2020-09-18 22:25:17.596924</td>\n",
       "      <td>accept</td>\n",
       "      <td>{'players': {'team1': 'Arsenal', 'team2': 'Cry...</td>\n",
       "    </tr>\n",
       "  </tbody>\n",
       "</table>\n",
       "</div>"
      ],
      "text/plain": [
       "   train_id                                       original_doc  \\\n",
       "0  21223385  {'_id': '21223385', '_source': {'body': [{'con...   \n",
       "1  21231305  {'_id': '21231305', '_source': {'body': [{'con...   \n",
       "2  21231956  {'_id': '21231956', '_source': {'body': [{'con...   \n",
       "3  21231957  {'_id': '21231957', '_source': {'body': [{'con...   \n",
       "4  21231959  {'_id': '21231959', '_source': {'body': [{'con...   \n",
       "\n",
       "                                     html_annotation  \\\n",
       "0  [<span>Video tổng hợp trận đấu:</span>, <span ...   \n",
       "1  [<span class=\"tag match_info\" data=\":match_inf...   \n",
       "2  [<span class=\"tag match_info\" data=\":match_inf...   \n",
       "3  [<span class=\"tag match_info\" data=\":match_inf...   \n",
       "4  [<span class=\"tag match_info\" data=\":match_inf...   \n",
       "\n",
       "               modified_time  status  \\\n",
       "0 2020-10-15 11:37:37.208116  accept   \n",
       "1 2020-10-19 21:54:18.727348  accept   \n",
       "2 2020-10-19 22:40:33.078740  accept   \n",
       "3 2020-10-21 08:57:08.463983  accept   \n",
       "4 2020-09-18 22:25:17.596924  accept   \n",
       "\n",
       "                                       match_summary  \n",
       "0  {'players': {'team1': 'Chelsea', 'team2': 'Sto...  \n",
       "1  {'players': {'team1': 'Arsenal', 'team2': 'Cry...  \n",
       "2  {'players': {'team1': 'Chelsea', 'team2': 'Sto...  \n",
       "3  {'players': {'team1': 'Watford', 'team2': 'Tot...  \n",
       "4  {'players': {'team1': 'Arsenal', 'team2': 'Cry...  "
      ]
     },
     "execution_count": 52,
     "metadata": {},
     "output_type": "execute_result"
    }
   ],
   "source": [
    "df.head()"
   ]
  },
  {
   "cell_type": "markdown",
   "metadata": {},
   "source": [
    "# Investigating a document"
   ]
  },
  {
   "cell_type": "markdown",
   "metadata": {},
   "source": [
    "Xem 1 bài báo"
   ]
  },
  {
   "cell_type": "code",
   "execution_count": 9,
   "metadata": {},
   "outputs": [],
   "source": [
    "doc = df.loc[0]"
   ]
  },
  {
   "cell_type": "code",
   "execution_count": 10,
   "metadata": {},
   "outputs": [
    {
     "data": {
      "text/plain": [
       "train_id                                                    21223385\n",
       "original_doc       {'_id': '21223385', '_source': {'body': [{'con...\n",
       "html_annotation    [<span>Video tổng hợp trận đấu:</span>, <span ...\n",
       "modified_time                             2020-10-15 11:37:37.208116\n",
       "status                                                        accept\n",
       "match_summary      {'players': {'team1': 'Chelsea', 'team2': 'Sto...\n",
       "Name: 0, dtype: object"
      ]
     },
     "execution_count": 10,
     "metadata": {},
     "output_type": "execute_result"
    }
   ],
   "source": [
    "doc"
   ]
  },
  {
   "cell_type": "code",
   "execution_count": null,
   "metadata": {},
   "outputs": [],
   "source": []
  },
  {
   "cell_type": "markdown",
   "metadata": {},
   "source": [
    "<b>Label: tóm tắt trận đấu match_summary </b>"
   ]
  },
  {
   "cell_type": "code",
   "execution_count": 25,
   "metadata": {},
   "outputs": [
    {
     "name": "stdout",
     "output_type": "stream",
     "text": [
      "{\n",
      "  \"players\": {\n",
      "    \"team1\": \"Chelsea\",\n",
      "    \"team2\": \"Stoke\",\n",
      "    \"ref_event_ids\": \"1\"\n",
      "  },\n",
      "  \"score_board\": {\n",
      "    \"score1\": \"4\",\n",
      "    \"score2\": \"2\",\n",
      "    \"ref_event_ids\": \"1,6\"\n",
      "  },\n",
      "  \"score_list\": [\n",
      "    {\n",
      "      \"player_name\": \"Cahill\",\n",
      "      \"time\": \"34\",\n",
      "      \"team\": \"Chelsea\",\n",
      "      \"ref_event_ids\": \"2,7\"\n",
      "    },\n",
      "    {\n",
      "      \"player_name\": \"Willian\",\n",
      "      \"time\": \"57\",\n",
      "      \"team\": \"Chelsea\",\n",
      "      \"ref_event_ids\": \"3,7\"\n",
      "    },\n",
      "    {\n",
      "      \"player_name\": \"Crouch\",\n",
      "      \"time\": \"64\",\n",
      "      \"team\": \"Stoke\",\n",
      "      \"ref_event_ids\": \"4,7,8\"\n",
      "    },\n",
      "    {\n",
      "      \"player_name\": \"Diego Costa\",\n",
      "      \"time\": \"85\",\n",
      "      \"team\": \"Chelsea\",\n",
      "      \"ref_event_ids\": \"6,7\"\n",
      "    },\n",
      "    {\n",
      "      \"player_name\": \"Willian\",\n",
      "      \"time\": \"65\",\n",
      "      \"team\": \"Chelsea\",\n",
      "      \"ref_event_ids\": \"5,7\"\n",
      "    },\n",
      "    {\n",
      "      \"player_name\": \"Martins Indi\",\n",
      "      \"time\": \"46\",\n",
      "      \"team\": \"Stoke\",\n",
      "      \"ref_event_ids\": \"7\"\n",
      "    }\n",
      "  ],\n",
      "  \"card_list\": [],\n",
      "  \"substitution_list\": []\n",
      "}\n"
     ]
    }
   ],
   "source": [
    "print(json.dumps(doc[\"match_summary\"], indent=2))"
   ]
  },
  {
   "cell_type": "code",
   "execution_count": 11,
   "metadata": {},
   "outputs": [],
   "source": [
    "html_doc = doc[\"html_annotation\"]"
   ]
  },
  {
   "cell_type": "code",
   "execution_count": 14,
   "metadata": {},
   "outputs": [
    {
     "data": {
      "text/plain": [
       "20"
      ]
     },
     "execution_count": 14,
     "metadata": {},
     "output_type": "execute_result"
    }
   ],
   "source": [
    "len(html_doc)"
   ]
  },
  {
   "cell_type": "code",
   "execution_count": 16,
   "metadata": {},
   "outputs": [
    {
     "name": "stdout",
     "output_type": "stream",
     "text": [
      "<span>Video tổng hợp trận đấu:</span>\n",
      "===============================\n",
      "<span class=\"tag match_info match_result\" data=\":match_info:match_result:\" event_id=\"1\">Chelsea cần chiến thắng trước Stoke City ở Stamford Bridge để cân bằng kỷ lục 13 chiến thắng của Arsenal ở cuối mùa 2001/02. Cuối cùng, đoàn quân của HLV Conte đã hoàn thành nhiệm vụ này khi vượt qua đối thủ với tỷ số 4-2</span><span>.</span>\n",
      "===============================\n",
      "<span>Ở trận đấu này, Stoke City đã cố gắng hết sức. Họ đã đặt Chelsea vào thế rượt đuổi tỷ số. Nhưng rồi, với đẳng cấp, The Blues đã vượt lên ở thời điểm quyết định.</span>\n",
      "===============================\n",
      "<span>Chelsea tiếp tục vô đối</span>\n",
      "===============================\n",
      "<span>Với chiến thắng này, Chelsea chính thức là ông Vua lượt đi Premier League với 49 điểm sau 19 vòng đấu. Người ta vẫn chưa tìm đối thủ đủ sức cắt đứt mạch chiến thắng của The Blues ở thời điểm này.</span>\n",
      "===============================\n",
      "<span>Bước vào trận đấu, Chelsea đón chào sự trở lại của Diego Costa. Cầu thủ người Tây Ban Nha sát cánh cùng Hazard và Willian trên hàng công. Với quá nhiều lợi thế trong tay, Chelsea đã gây sức ép lên khung thành đối thủ ngay sau tiếng còi khai cuộc.</span>\n",
      "===============================\n",
      "<span>Phút 18, Diego Costa đã có cơ hội cực kỳ thuận lợi để ghi bàn sau đường chuyền của Fabregas. Đáng tiếc, cú dứt điểm của trong tư thế thoải mái của cầu thủ này lại không chiến thắng được thủ thành Grant.</span>\n",
      "===============================\n",
      "<span>Phút 33, người gác đền của Stoke City lại tỏa sáng, khi dũng cảm lao ra truy cản Diego Costa, ngay trước khi cầu thủ này kịp tung ra cú dứt điểm.</span>\n",
      "===============================\n",
      "<span class=\"tag goal_info\" data=\":goal_info:\" event_id=\"2\">Tuy vậy, 1 phút sau, Chelsea đã cụ thể hóa sức ép liên tục bằng bàn thắng. Người lập công cho The Blues là đội trưởng Cahill với cú đánh đầu cận thành từ tình huống phạt góc.</span>\n",
      "===============================\n",
      "<span class=\"tag goal_info\" data=\":goal_info:\" event_id=\"8\">Ngay đầu hiệp 2, Stoke City đã bất ngờ tìm được bàn thắng gỡ hòa. Từ tình huống cố định, Crouch đã nhả đầu cho Indi đệm bóng vào lưới thủ thành Courtois.</span>\n",
      "===============================\n",
      "<span>Stoke không thể cản nổi The Blues</span>\n",
      "===============================\n",
      "<span>Thế nhưng, Chelsea cho thấy họ không chỉ chơi phòng ngự-phản công tốt mà khả năng tấn công của họ cũng rất tốt. </span><span class=\"tag goal_info\" data=\":goal_info:\" event_id=\"3\">Phút 57, sau pha nhả bóng của Hazard, Willian đã tung ra cú dứt điểm cháy lưới của Stoke City, nâng tỷ số lên 2-1.</span>\n",
      "===============================\n",
      "<span class=\"tag goal_info\" data=\":goal_info:\" event_id=\"4\">Kịch tính của trận đấu được đẩy lên khi Stoke City đã có được bàn thắng gỡ hòa 2-2 ở phút 64.</span><span> Đây là CLB duy nhất có thể ghi quá 1 bàn thắng vào lưới Chelsea trong chuỗi chiến thắng liên tiếp.</span>\n",
      "===============================\n",
      "<span>Chỉ có điều, Chelsea quá bản lĩnh để vượt qua khó khăn Stoke City mang tới. </span><span class=\"tag goal_info\" data=\":goal_info:\" event_id=\"5\">Đúng 1 phút sau, Willian đã hoàn tất cú đúp, giúp Chelsea vượt lên dẫn trước với tỷ số 3-2.</span>\n",
      "===============================\n",
      "<span class=\"tag match_result goal_info\" data=\":match_result:goal_info:\" event_id=\"6\">Phút 84, Diego Costa đã chấm dứt hy vọng của Stoke City với bàn thắng ấn định chiến thắng 4-2 sau sai lầm của hậu vệ Indi bên phía Stoke City.</span>\n",
      "===============================\n",
      "<span class=\"tag goal_info\" data=\":goal_info:\" event_id=\"7\">Ghi bàn: Cahill 34'; Willian 57', 65'; Costa 85' - Martins Indi 46'; Crouch 64'.</span>\n",
      "===============================\n",
      "<span>Đội hình thi đấu:</span>\n",
      "===============================\n",
      "<span>Chelsea: Courtois, Azpilicueta, Luiz, Cahill, Moses, Kante, Fabregas, Alonso, Willian, Hazard, Costa.</span>\n",
      "===============================\n",
      "<span>Stoke City: Grant, Johnson, Shawcross, Martins Indi, Pieters, Allen, Adam, Diouf, Afellay, Shaqiri, Crouch.</span>\n",
      "===============================\n",
      "<span>Hoàng Việt</span>\n",
      "===============================\n"
     ]
    }
   ],
   "source": [
    "for item in html_doc:\n",
    "    print(item)\n",
    "    print(\"===============================\")"
   ]
  },
  {
   "cell_type": "code",
   "execution_count": 23,
   "metadata": {},
   "outputs": [
    {
     "name": "stdout",
     "output_type": "stream",
     "text": [
      "=========================================\n",
      "event_type: :match_info:match_result:\n",
      "event_id: 1\n",
      "text: Chelsea cần chiến thắng trước Stoke City ở Stamford Bridge để cân bằng kỷ lục 13 chiến thắng của Arsenal ở cuối mùa 2001/02. Cuối cùng, đoàn quân của HLV Conte đã hoàn thành nhiệm vụ này khi vượt qua đối thủ với tỷ số 4-2\n",
      "-----------\n",
      "=========================================\n",
      "=========================================\n",
      "=========================================\n",
      "=========================================\n",
      "=========================================\n",
      "=========================================\n",
      "=========================================\n",
      "event_type: :goal_info:\n",
      "event_id: 2\n",
      "text: Tuy vậy, 1 phút sau, Chelsea đã cụ thể hóa sức ép liên tục bằng bàn thắng. Người lập công cho The Blues là đội trưởng Cahill với cú đánh đầu cận thành từ tình huống phạt góc.\n",
      "-----------\n",
      "=========================================\n",
      "event_type: :goal_info:\n",
      "event_id: 8\n",
      "text: Ngay đầu hiệp 2, Stoke City đã bất ngờ tìm được bàn thắng gỡ hòa. Từ tình huống cố định, Crouch đã nhả đầu cho Indi đệm bóng vào lưới thủ thành Courtois.\n",
      "-----------\n",
      "=========================================\n",
      "=========================================\n",
      "event_type: :goal_info:\n",
      "event_id: 3\n",
      "text: Phút 57, sau pha nhả bóng của Hazard, Willian đã tung ra cú dứt điểm cháy lưới của Stoke City, nâng tỷ số lên 2-1.\n",
      "-----------\n",
      "=========================================\n",
      "event_type: :goal_info:\n",
      "event_id: 4\n",
      "text: Kịch tính của trận đấu được đẩy lên khi Stoke City đã có được bàn thắng gỡ hòa 2-2 ở phút 64.\n",
      "-----------\n",
      "=========================================\n",
      "event_type: :goal_info:\n",
      "event_id: 5\n",
      "text: Đúng 1 phút sau, Willian đã hoàn tất cú đúp, giúp Chelsea vượt lên dẫn trước với tỷ số 3-2.\n",
      "-----------\n",
      "=========================================\n",
      "event_type: :match_result:goal_info:\n",
      "event_id: 6\n",
      "text: Phút 84, Diego Costa đã chấm dứt hy vọng của Stoke City với bàn thắng ấn định chiến thắng 4-2 sau sai lầm của hậu vệ Indi bên phía Stoke City.\n",
      "-----------\n",
      "=========================================\n",
      "event_type: :goal_info:\n",
      "event_id: 7\n",
      "text: Ghi bàn: Cahill 34'; Willian 57', 65'; Costa 85' - Martins Indi 46'; Crouch 64'.\n",
      "-----------\n",
      "=========================================\n",
      "=========================================\n",
      "=========================================\n",
      "=========================================\n",
      "=========================================\n"
     ]
    }
   ],
   "source": [
    "for html in doc[\"html_annotation\"]:\n",
    "    soup = BeautifulSoup(html)\n",
    "    events = soup.find_all(\"span\", {\"class\": \"tag\"})\n",
    "    for e in events:\n",
    "        print(\"event_type:\", e[\"data\"])\n",
    "        print(\"event_id:\", e[\"event_id\"])\n",
    "        print(\"text:\", e.text)\n",
    "        print(\"-----------\")\n",
    "    print(\"=========================================\")"
   ]
  },
  {
   "cell_type": "markdown",
   "metadata": {},
   "source": [
    "# Parse dataset "
   ]
  },
  {
   "cell_type": "markdown",
   "metadata": {},
   "source": [
    "Parse json, html annotation thành các cột riêng để dễ thực hiện eda"
   ]
  },
  {
   "cell_type": "markdown",
   "metadata": {},
   "source": [
    "## helper function"
   ]
  },
  {
   "cell_type": "code",
   "execution_count": 33,
   "metadata": {},
   "outputs": [],
   "source": [
    "def get_team1_name(doc):\n",
    "    return doc[\"match_summary\"][\"players\"][\"team1\"]"
   ]
  },
  {
   "cell_type": "code",
   "execution_count": 34,
   "metadata": {},
   "outputs": [],
   "source": [
    "def get_team2_name(doc):\n",
    "    return doc[\"match_summary\"][\"players\"][\"team2\"]"
   ]
  },
  {
   "cell_type": "code",
   "execution_count": 41,
   "metadata": {},
   "outputs": [],
   "source": [
    "def get_team1_score(doc):\n",
    "    return doc[\"match_summary\"][\"score_board\"][\"score1\"]"
   ]
  },
  {
   "cell_type": "code",
   "execution_count": 45,
   "metadata": {},
   "outputs": [],
   "source": [
    "def get_team2_score(doc):\n",
    "    return doc[\"match_summary\"][\"score_board\"][\"score2\"]"
   ]
  },
  {
   "cell_type": "code",
   "execution_count": 46,
   "metadata": {},
   "outputs": [
    {
     "data": {
      "text/plain": [
       "'Chelsea'"
      ]
     },
     "execution_count": 46,
     "metadata": {},
     "output_type": "execute_result"
    }
   ],
   "source": [
    "get_team1_name(doc)"
   ]
  },
  {
   "cell_type": "code",
   "execution_count": 47,
   "metadata": {},
   "outputs": [
    {
     "data": {
      "text/plain": [
       "'Stoke'"
      ]
     },
     "execution_count": 47,
     "metadata": {},
     "output_type": "execute_result"
    }
   ],
   "source": [
    "get_team2_name(doc)"
   ]
  },
  {
   "cell_type": "code",
   "execution_count": 48,
   "metadata": {},
   "outputs": [
    {
     "data": {
      "text/plain": [
       "'4'"
      ]
     },
     "execution_count": 48,
     "metadata": {},
     "output_type": "execute_result"
    }
   ],
   "source": [
    "get_team1_score(doc)"
   ]
  },
  {
   "cell_type": "code",
   "execution_count": 49,
   "metadata": {},
   "outputs": [
    {
     "data": {
      "text/plain": [
       "'2'"
      ]
     },
     "execution_count": 49,
     "metadata": {},
     "output_type": "execute_result"
    }
   ],
   "source": [
    "get_team2_score(doc)"
   ]
  },
  {
   "cell_type": "code",
   "execution_count": 79,
   "metadata": {},
   "outputs": [],
   "source": [
    "def get_event_list(doc):\n",
    "    event_types_set = set()\n",
    "    for html in doc[\"html_annotation\"]:\n",
    "        soup = BeautifulSoup(html)\n",
    "        events = soup.find_all(\"span\", {\"class\": \"tag\"})\n",
    "        for e in events:\n",
    "            # e[\"data\"]\n",
    "            single_event_list = e[\"data\"].split(':')\n",
    "            for single_event in single_event_list:\n",
    "                if len(single_event) > 0:\n",
    "                    event_types_set.add(single_event)\n",
    "    return \",\".join(list(event_types_set))"
   ]
  },
  {
   "cell_type": "code",
   "execution_count": 80,
   "metadata": {},
   "outputs": [
    {
     "data": {
      "text/plain": [
       "'match_result,goal_info,match_info'"
      ]
     },
     "execution_count": 80,
     "metadata": {},
     "output_type": "execute_result"
    }
   ],
   "source": [
    "get_event_list(doc)"
   ]
  },
  {
   "cell_type": "markdown",
   "metadata": {},
   "source": [
    "      _ `goal_info`: describes a goal\n",
    "\n",
    "      _ `match_info`: describes two participating teams of the match\n",
    "\n",
    "      _ `match_result`: describes the result of the match\n",
    "\n",
    "      _ `card_info`: describes a foul card situation \n",
    "\n",
    "      _ `substitution`: describes a substitution"
   ]
  },
  {
   "cell_type": "code",
   "execution_count": 84,
   "metadata": {},
   "outputs": [],
   "source": [
    "def count_goal_info(doc):\n",
    "    count = 0\n",
    "    event_name = \"goal_info\"\n",
    "    for html in doc[\"html_annotation\"]:\n",
    "        soup = BeautifulSoup(html)\n",
    "        events = soup.find_all(\"span\", {\"class\": \"tag\"})\n",
    "        for e in events:\n",
    "            # e[\"data\"]\n",
    "            single_event_list = e[\"data\"].split(':')\n",
    "            for single_event in single_event_list:\n",
    "                if len(single_event) > 0:\n",
    "                    if single_event == event_name:\n",
    "                        count+= 1\n",
    "    return count"
   ]
  },
  {
   "cell_type": "code",
   "execution_count": 85,
   "metadata": {},
   "outputs": [],
   "source": [
    "def count_match_info(doc):\n",
    "    count = 0\n",
    "    event_name = \"match_info\"\n",
    "    for html in doc[\"html_annotation\"]:\n",
    "        soup = BeautifulSoup(html)\n",
    "        events = soup.find_all(\"span\", {\"class\": \"tag\"})\n",
    "        for e in events:\n",
    "            # e[\"data\"]\n",
    "            single_event_list = e[\"data\"].split(':')\n",
    "            for single_event in single_event_list:\n",
    "                if len(single_event) > 0:\n",
    "                    if single_event == event_name:\n",
    "                        count+= 1\n",
    "    return count"
   ]
  },
  {
   "cell_type": "code",
   "execution_count": 86,
   "metadata": {},
   "outputs": [],
   "source": [
    "def count_match_result(doc):\n",
    "    count = 0\n",
    "    event_name = \"match_result\"\n",
    "    for html in doc[\"html_annotation\"]:\n",
    "        soup = BeautifulSoup(html)\n",
    "        events = soup.find_all(\"span\", {\"class\": \"tag\"})\n",
    "        for e in events:\n",
    "            # e[\"data\"]\n",
    "            single_event_list = e[\"data\"].split(':')\n",
    "            for single_event in single_event_list:\n",
    "                if len(single_event) > 0:\n",
    "                    if single_event == event_name:\n",
    "                        count+= 1\n",
    "    return count"
   ]
  },
  {
   "cell_type": "code",
   "execution_count": 87,
   "metadata": {},
   "outputs": [],
   "source": [
    "def count_card_info(doc):\n",
    "    count = 0\n",
    "    event_name = \"card_info\"\n",
    "    for html in doc[\"html_annotation\"]:\n",
    "        soup = BeautifulSoup(html)\n",
    "        events = soup.find_all(\"span\", {\"class\": \"tag\"})\n",
    "        for e in events:\n",
    "            # e[\"data\"]\n",
    "            single_event_list = e[\"data\"].split(':')\n",
    "            for single_event in single_event_list:\n",
    "                if len(single_event) > 0:\n",
    "                    if single_event == event_name:\n",
    "                        count+= 1\n",
    "    return count"
   ]
  },
  {
   "cell_type": "code",
   "execution_count": 88,
   "metadata": {},
   "outputs": [],
   "source": [
    "def count_substitution(doc):\n",
    "    count = 0\n",
    "    event_name = \"substitution\"\n",
    "    for html in doc[\"html_annotation\"]:\n",
    "        soup = BeautifulSoup(html)\n",
    "        events = soup.find_all(\"span\", {\"class\": \"tag\"})\n",
    "        for e in events:\n",
    "            # e[\"data\"]\n",
    "            single_event_list = e[\"data\"].split(':')\n",
    "            for single_event in single_event_list:\n",
    "                if len(single_event) > 0:\n",
    "                    if single_event == event_name:\n",
    "                        count+= 1\n",
    "    return count"
   ]
  },
  {
   "cell_type": "code",
   "execution_count": 82,
   "metadata": {},
   "outputs": [
    {
     "data": {
      "text/plain": [
       "7"
      ]
     },
     "execution_count": 82,
     "metadata": {},
     "output_type": "execute_result"
    }
   ],
   "source": [
    "count_goal_info(doc)"
   ]
  },
  {
   "cell_type": "code",
   "execution_count": null,
   "metadata": {},
   "outputs": [],
   "source": []
  }
 ],
 "metadata": {
  "kernelspec": {
   "display_name": "Python 3",
   "language": "python",
   "name": "python3"
  },
  "language_info": {
   "codemirror_mode": {
    "name": "ipython",
    "version": 3
   },
   "file_extension": ".py",
   "mimetype": "text/x-python",
   "name": "python",
   "nbconvert_exporter": "python",
   "pygments_lexer": "ipython3",
   "version": "3.8.5"
  }
 },
 "nbformat": 4,
 "nbformat_minor": 4
}
