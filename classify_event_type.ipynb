{
 "cells": [
  {
   "cell_type": "code",
   "execution_count": 2,
   "metadata": {},
   "outputs": [],
   "source": [
    "import pandas as pd\n",
    "from bs4 import BeautifulSoup\n",
    "import json\n",
    "import pandas_profiling"
   ]
  },
  {
   "cell_type": "code",
   "execution_count": 3,
   "metadata": {},
   "outputs": [],
   "source": [
    "# in case you don't have file downloaded yet\n",
    "# or run on google colab \n",
    "gist_path = \"https://gist.githubusercontent.com/ttpro1995/391c8df70dd780a64a544cce8d40de03/raw/c2374358d7a6a2afd88826dcd8dbb673918f42ae/train.jsonl\""
   ]
  },
  {
   "cell_type": "code",
   "execution_count": 4,
   "metadata": {},
   "outputs": [],
   "source": [
    "df = pd.read_json(gist_path, lines=True)"
   ]
  },
  {
   "cell_type": "code",
   "execution_count": 5,
   "metadata": {},
   "outputs": [
    {
     "data": {
      "text/html": [
       "<div>\n",
       "<style scoped>\n",
       "    .dataframe tbody tr th:only-of-type {\n",
       "        vertical-align: middle;\n",
       "    }\n",
       "\n",
       "    .dataframe tbody tr th {\n",
       "        vertical-align: top;\n",
       "    }\n",
       "\n",
       "    .dataframe thead th {\n",
       "        text-align: right;\n",
       "    }\n",
       "</style>\n",
       "<table border=\"1\" class=\"dataframe\">\n",
       "  <thead>\n",
       "    <tr style=\"text-align: right;\">\n",
       "      <th></th>\n",
       "      <th>train_id</th>\n",
       "      <th>original_doc</th>\n",
       "      <th>html_annotation</th>\n",
       "      <th>modified_time</th>\n",
       "      <th>status</th>\n",
       "      <th>match_summary</th>\n",
       "    </tr>\n",
       "  </thead>\n",
       "  <tbody>\n",
       "    <tr>\n",
       "      <th>0</th>\n",
       "      <td>21223385</td>\n",
       "      <td>{'_id': '21223385', '_source': {'body': [{'con...</td>\n",
       "      <td>[&lt;span&gt;Video tổng hợp trận đấu:&lt;/span&gt;, &lt;span ...</td>\n",
       "      <td>2020-10-15 11:37:37.208116</td>\n",
       "      <td>accept</td>\n",
       "      <td>{'players': {'team1': 'Chelsea', 'team2': 'Sto...</td>\n",
       "    </tr>\n",
       "    <tr>\n",
       "      <th>1</th>\n",
       "      <td>21231305</td>\n",
       "      <td>{'_id': '21231305', '_source': {'body': [{'con...</td>\n",
       "      <td>[&lt;span class=\"tag match_info\" data=\":match_inf...</td>\n",
       "      <td>2020-10-19 21:54:18.727348</td>\n",
       "      <td>accept</td>\n",
       "      <td>{'players': {'team1': 'Arsenal', 'team2': 'Cry...</td>\n",
       "    </tr>\n",
       "    <tr>\n",
       "      <th>2</th>\n",
       "      <td>21231956</td>\n",
       "      <td>{'_id': '21231956', '_source': {'body': [{'con...</td>\n",
       "      <td>[&lt;span class=\"tag match_info\" data=\":match_inf...</td>\n",
       "      <td>2020-10-19 22:40:33.078740</td>\n",
       "      <td>accept</td>\n",
       "      <td>{'players': {'team1': 'Chelsea', 'team2': 'Sto...</td>\n",
       "    </tr>\n",
       "    <tr>\n",
       "      <th>3</th>\n",
       "      <td>21231957</td>\n",
       "      <td>{'_id': '21231957', '_source': {'body': [{'con...</td>\n",
       "      <td>[&lt;span class=\"tag match_info\" data=\":match_inf...</td>\n",
       "      <td>2020-10-21 08:57:08.463983</td>\n",
       "      <td>accept</td>\n",
       "      <td>{'players': {'team1': 'Watford', 'team2': 'Tot...</td>\n",
       "    </tr>\n",
       "    <tr>\n",
       "      <th>4</th>\n",
       "      <td>21231959</td>\n",
       "      <td>{'_id': '21231959', '_source': {'body': [{'con...</td>\n",
       "      <td>[&lt;span class=\"tag match_info\" data=\":match_inf...</td>\n",
       "      <td>2020-09-18 22:25:17.596924</td>\n",
       "      <td>accept</td>\n",
       "      <td>{'players': {'team1': 'Arsenal', 'team2': 'Cry...</td>\n",
       "    </tr>\n",
       "  </tbody>\n",
       "</table>\n",
       "</div>"
      ],
      "text/plain": [
       "   train_id                                       original_doc  \\\n",
       "0  21223385  {'_id': '21223385', '_source': {'body': [{'con...   \n",
       "1  21231305  {'_id': '21231305', '_source': {'body': [{'con...   \n",
       "2  21231956  {'_id': '21231956', '_source': {'body': [{'con...   \n",
       "3  21231957  {'_id': '21231957', '_source': {'body': [{'con...   \n",
       "4  21231959  {'_id': '21231959', '_source': {'body': [{'con...   \n",
       "\n",
       "                                     html_annotation  \\\n",
       "0  [<span>Video tổng hợp trận đấu:</span>, <span ...   \n",
       "1  [<span class=\"tag match_info\" data=\":match_inf...   \n",
       "2  [<span class=\"tag match_info\" data=\":match_inf...   \n",
       "3  [<span class=\"tag match_info\" data=\":match_inf...   \n",
       "4  [<span class=\"tag match_info\" data=\":match_inf...   \n",
       "\n",
       "               modified_time  status  \\\n",
       "0 2020-10-15 11:37:37.208116  accept   \n",
       "1 2020-10-19 21:54:18.727348  accept   \n",
       "2 2020-10-19 22:40:33.078740  accept   \n",
       "3 2020-10-21 08:57:08.463983  accept   \n",
       "4 2020-09-18 22:25:17.596924  accept   \n",
       "\n",
       "                                       match_summary  \n",
       "0  {'players': {'team1': 'Chelsea', 'team2': 'Sto...  \n",
       "1  {'players': {'team1': 'Arsenal', 'team2': 'Cry...  \n",
       "2  {'players': {'team1': 'Chelsea', 'team2': 'Sto...  \n",
       "3  {'players': {'team1': 'Watford', 'team2': 'Tot...  \n",
       "4  {'players': {'team1': 'Arsenal', 'team2': 'Cry...  "
      ]
     },
     "execution_count": 5,
     "metadata": {},
     "output_type": "execute_result"
    }
   ],
   "source": [
    "df.head()"
   ]
  },
  {
   "cell_type": "markdown",
   "metadata": {},
   "source": [
    "# Đọc html và chuyển sang bài toán phân loại event "
   ]
  },
  {
   "cell_type": "markdown",
   "metadata": {},
   "source": [
    "## Chuyển sang list của các dict "
   ]
  },
  {
   "cell_type": "code",
   "execution_count": 7,
   "metadata": {},
   "outputs": [],
   "source": [
    "df1 = df.drop([\"original_doc\", \"modified_time\", \"status\", \"match_summary\"], axis=1)"
   ]
  },
  {
   "cell_type": "code",
   "execution_count": 8,
   "metadata": {},
   "outputs": [
    {
     "data": {
      "text/html": [
       "<div>\n",
       "<style scoped>\n",
       "    .dataframe tbody tr th:only-of-type {\n",
       "        vertical-align: middle;\n",
       "    }\n",
       "\n",
       "    .dataframe tbody tr th {\n",
       "        vertical-align: top;\n",
       "    }\n",
       "\n",
       "    .dataframe thead th {\n",
       "        text-align: right;\n",
       "    }\n",
       "</style>\n",
       "<table border=\"1\" class=\"dataframe\">\n",
       "  <thead>\n",
       "    <tr style=\"text-align: right;\">\n",
       "      <th></th>\n",
       "      <th>train_id</th>\n",
       "      <th>html_annotation</th>\n",
       "    </tr>\n",
       "  </thead>\n",
       "  <tbody>\n",
       "    <tr>\n",
       "      <th>0</th>\n",
       "      <td>21223385</td>\n",
       "      <td>[&lt;span&gt;Video tổng hợp trận đấu:&lt;/span&gt;, &lt;span ...</td>\n",
       "    </tr>\n",
       "    <tr>\n",
       "      <th>1</th>\n",
       "      <td>21231305</td>\n",
       "      <td>[&lt;span class=\"tag match_info\" data=\":match_inf...</td>\n",
       "    </tr>\n",
       "    <tr>\n",
       "      <th>2</th>\n",
       "      <td>21231956</td>\n",
       "      <td>[&lt;span class=\"tag match_info\" data=\":match_inf...</td>\n",
       "    </tr>\n",
       "    <tr>\n",
       "      <th>3</th>\n",
       "      <td>21231957</td>\n",
       "      <td>[&lt;span class=\"tag match_info\" data=\":match_inf...</td>\n",
       "    </tr>\n",
       "    <tr>\n",
       "      <th>4</th>\n",
       "      <td>21231959</td>\n",
       "      <td>[&lt;span class=\"tag match_info\" data=\":match_inf...</td>\n",
       "    </tr>\n",
       "  </tbody>\n",
       "</table>\n",
       "</div>"
      ],
      "text/plain": [
       "   train_id                                    html_annotation\n",
       "0  21223385  [<span>Video tổng hợp trận đấu:</span>, <span ...\n",
       "1  21231305  [<span class=\"tag match_info\" data=\":match_inf...\n",
       "2  21231956  [<span class=\"tag match_info\" data=\":match_inf...\n",
       "3  21231957  [<span class=\"tag match_info\" data=\":match_inf...\n",
       "4  21231959  [<span class=\"tag match_info\" data=\":match_inf..."
      ]
     },
     "execution_count": 8,
     "metadata": {},
     "output_type": "execute_result"
    }
   ],
   "source": [
    "df1.head()"
   ]
  },
  {
   "cell_type": "code",
   "execution_count": 10,
   "metadata": {},
   "outputs": [
    {
     "data": {
      "text/plain": [
       "train_id                                                    21223385\n",
       "html_annotation    [<span>Video tổng hợp trận đấu:</span>, <span ...\n",
       "Name: 0, dtype: object"
      ]
     },
     "execution_count": 10,
     "metadata": {},
     "output_type": "execute_result"
    }
   ],
   "source": [
    "doc = df1.iloc[0]\n",
    "doc"
   ]
  },
  {
   "cell_type": "code",
   "execution_count": 18,
   "metadata": {},
   "outputs": [],
   "source": [
    "def html_annotation_to_list(doc):\n",
    "    event_list = []\n",
    "    for html in doc[\"html_annotation\"]:\n",
    "        soup = BeautifulSoup(html)\n",
    "        events = soup.find_all(\"span\", {\"class\": \"tag\"})\n",
    "        for e in events:\n",
    "            item_dict = dict()\n",
    "            item_dict[\"event_type\"] = e[\"data\"]\n",
    "            item_dict[\"event_id\"] = e[\"event_id\"]\n",
    "            item_dict[\"text\"] = e.text\n",
    "            event_list.append(item_dict)\n",
    "    return event_list"
   ]
  },
  {
   "cell_type": "code",
   "execution_count": 17,
   "metadata": {},
   "outputs": [
    {
     "data": {
      "text/plain": [
       "[{'event_type': ':match_info:match_result:',\n",
       "  'event_id': '1',\n",
       "  'text': 'Chelsea cần chiến thắng trước Stoke City ở Stamford Bridge để cân bằng kỷ lục 13 chiến thắng của Arsenal ở cuối mùa 2001/02. Cuối cùng, đoàn quân của HLV Conte đã hoàn thành nhiệm vụ này khi vượt qua đối thủ với tỷ số 4-2'},\n",
       " {'event_type': ':goal_info:',\n",
       "  'event_id': '2',\n",
       "  'text': 'Tuy vậy, 1 phút sau, Chelsea đã cụ thể hóa sức ép liên tục bằng bàn thắng. Người lập công cho The Blues là đội trưởng Cahill với cú đánh đầu cận thành từ tình huống phạt góc.'},\n",
       " {'event_type': ':goal_info:',\n",
       "  'event_id': '8',\n",
       "  'text': 'Ngay đầu hiệp 2, Stoke City đã bất ngờ tìm được bàn thắng gỡ hòa. Từ tình huống cố định, Crouch đã nhả đầu cho Indi đệm bóng vào lưới thủ thành Courtois.'},\n",
       " {'event_type': ':goal_info:',\n",
       "  'event_id': '3',\n",
       "  'text': 'Phút 57, sau pha nhả bóng của Hazard, Willian đã tung ra cú dứt điểm cháy lưới của Stoke City, nâng tỷ số lên 2-1.'},\n",
       " {'event_type': ':goal_info:',\n",
       "  'event_id': '4',\n",
       "  'text': 'Kịch tính của trận đấu được đẩy lên khi Stoke City đã có được bàn thắng gỡ hòa 2-2 ở phút 64.'},\n",
       " {'event_type': ':goal_info:',\n",
       "  'event_id': '5',\n",
       "  'text': 'Đúng 1 phút sau, Willian đã hoàn tất cú đúp, giúp Chelsea vượt lên dẫn trước với tỷ số 3-2.'},\n",
       " {'event_type': ':match_result:goal_info:',\n",
       "  'event_id': '6',\n",
       "  'text': 'Phút 84, Diego Costa đã chấm dứt hy vọng của Stoke City với bàn thắng ấn định chiến thắng 4-2 sau sai lầm của hậu vệ Indi bên phía Stoke City.'},\n",
       " {'event_type': ':goal_info:',\n",
       "  'event_id': '7',\n",
       "  'text': \"Ghi bàn: Cahill 34'; Willian 57', 65'; Costa 85' - Martins Indi 46'; Crouch 64'.\"}]"
      ]
     },
     "execution_count": 17,
     "metadata": {},
     "output_type": "execute_result"
    }
   ],
   "source": [
    "event_list"
   ]
  },
  {
   "cell_type": "code",
   "execution_count": 20,
   "metadata": {},
   "outputs": [],
   "source": [
    "df1[\"list_annotation\"] = df1.apply(html_annotation_to_list, axis=1)"
   ]
  },
  {
   "cell_type": "code",
   "execution_count": 21,
   "metadata": {},
   "outputs": [
    {
     "data": {
      "text/html": [
       "<div>\n",
       "<style scoped>\n",
       "    .dataframe tbody tr th:only-of-type {\n",
       "        vertical-align: middle;\n",
       "    }\n",
       "\n",
       "    .dataframe tbody tr th {\n",
       "        vertical-align: top;\n",
       "    }\n",
       "\n",
       "    .dataframe thead th {\n",
       "        text-align: right;\n",
       "    }\n",
       "</style>\n",
       "<table border=\"1\" class=\"dataframe\">\n",
       "  <thead>\n",
       "    <tr style=\"text-align: right;\">\n",
       "      <th></th>\n",
       "      <th>train_id</th>\n",
       "      <th>html_annotation</th>\n",
       "      <th>list_annotation</th>\n",
       "    </tr>\n",
       "  </thead>\n",
       "  <tbody>\n",
       "    <tr>\n",
       "      <th>0</th>\n",
       "      <td>21223385</td>\n",
       "      <td>[&lt;span&gt;Video tổng hợp trận đấu:&lt;/span&gt;, &lt;span ...</td>\n",
       "      <td>[{'event_type': ':match_info:match_result:', '...</td>\n",
       "    </tr>\n",
       "    <tr>\n",
       "      <th>1</th>\n",
       "      <td>21231305</td>\n",
       "      <td>[&lt;span class=\"tag match_info\" data=\":match_inf...</td>\n",
       "      <td>[{'event_type': ':match_info:', 'event_id': '1...</td>\n",
       "    </tr>\n",
       "    <tr>\n",
       "      <th>2</th>\n",
       "      <td>21231956</td>\n",
       "      <td>[&lt;span class=\"tag match_info\" data=\":match_inf...</td>\n",
       "      <td>[{'event_type': ':match_info:', 'event_id': '1...</td>\n",
       "    </tr>\n",
       "    <tr>\n",
       "      <th>3</th>\n",
       "      <td>21231957</td>\n",
       "      <td>[&lt;span class=\"tag match_info\" data=\":match_inf...</td>\n",
       "      <td>[{'event_type': ':match_info:', 'event_id': '1...</td>\n",
       "    </tr>\n",
       "    <tr>\n",
       "      <th>4</th>\n",
       "      <td>21231959</td>\n",
       "      <td>[&lt;span class=\"tag match_info\" data=\":match_inf...</td>\n",
       "      <td>[{'event_type': ':match_info:', 'event_id': '5...</td>\n",
       "    </tr>\n",
       "  </tbody>\n",
       "</table>\n",
       "</div>"
      ],
      "text/plain": [
       "   train_id                                    html_annotation  \\\n",
       "0  21223385  [<span>Video tổng hợp trận đấu:</span>, <span ...   \n",
       "1  21231305  [<span class=\"tag match_info\" data=\":match_inf...   \n",
       "2  21231956  [<span class=\"tag match_info\" data=\":match_inf...   \n",
       "3  21231957  [<span class=\"tag match_info\" data=\":match_inf...   \n",
       "4  21231959  [<span class=\"tag match_info\" data=\":match_inf...   \n",
       "\n",
       "                                     list_annotation  \n",
       "0  [{'event_type': ':match_info:match_result:', '...  \n",
       "1  [{'event_type': ':match_info:', 'event_id': '1...  \n",
       "2  [{'event_type': ':match_info:', 'event_id': '1...  \n",
       "3  [{'event_type': ':match_info:', 'event_id': '1...  \n",
       "4  [{'event_type': ':match_info:', 'event_id': '5...  "
      ]
     },
     "execution_count": 21,
     "metadata": {},
     "output_type": "execute_result"
    }
   ],
   "source": [
    "df1.head()"
   ]
  },
  {
   "cell_type": "markdown",
   "metadata": {},
   "source": [
    "## bung array ra các row "
   ]
  },
  {
   "cell_type": "code",
   "execution_count": 22,
   "metadata": {},
   "outputs": [],
   "source": [
    "df2 = df1.explode(\"list_annotation\")"
   ]
  },
  {
   "cell_type": "code",
   "execution_count": 23,
   "metadata": {},
   "outputs": [
    {
     "data": {
      "text/html": [
       "<div>\n",
       "<style scoped>\n",
       "    .dataframe tbody tr th:only-of-type {\n",
       "        vertical-align: middle;\n",
       "    }\n",
       "\n",
       "    .dataframe tbody tr th {\n",
       "        vertical-align: top;\n",
       "    }\n",
       "\n",
       "    .dataframe thead th {\n",
       "        text-align: right;\n",
       "    }\n",
       "</style>\n",
       "<table border=\"1\" class=\"dataframe\">\n",
       "  <thead>\n",
       "    <tr style=\"text-align: right;\">\n",
       "      <th></th>\n",
       "      <th>train_id</th>\n",
       "      <th>html_annotation</th>\n",
       "      <th>list_annotation</th>\n",
       "    </tr>\n",
       "  </thead>\n",
       "  <tbody>\n",
       "    <tr>\n",
       "      <th>0</th>\n",
       "      <td>21223385</td>\n",
       "      <td>[&lt;span&gt;Video tổng hợp trận đấu:&lt;/span&gt;, &lt;span ...</td>\n",
       "      <td>{'event_type': ':match_info:match_result:', 'e...</td>\n",
       "    </tr>\n",
       "    <tr>\n",
       "      <th>0</th>\n",
       "      <td>21223385</td>\n",
       "      <td>[&lt;span&gt;Video tổng hợp trận đấu:&lt;/span&gt;, &lt;span ...</td>\n",
       "      <td>{'event_type': ':goal_info:', 'event_id': '2',...</td>\n",
       "    </tr>\n",
       "    <tr>\n",
       "      <th>0</th>\n",
       "      <td>21223385</td>\n",
       "      <td>[&lt;span&gt;Video tổng hợp trận đấu:&lt;/span&gt;, &lt;span ...</td>\n",
       "      <td>{'event_type': ':goal_info:', 'event_id': '8',...</td>\n",
       "    </tr>\n",
       "    <tr>\n",
       "      <th>0</th>\n",
       "      <td>21223385</td>\n",
       "      <td>[&lt;span&gt;Video tổng hợp trận đấu:&lt;/span&gt;, &lt;span ...</td>\n",
       "      <td>{'event_type': ':goal_info:', 'event_id': '3',...</td>\n",
       "    </tr>\n",
       "    <tr>\n",
       "      <th>0</th>\n",
       "      <td>21223385</td>\n",
       "      <td>[&lt;span&gt;Video tổng hợp trận đấu:&lt;/span&gt;, &lt;span ...</td>\n",
       "      <td>{'event_type': ':goal_info:', 'event_id': '4',...</td>\n",
       "    </tr>\n",
       "  </tbody>\n",
       "</table>\n",
       "</div>"
      ],
      "text/plain": [
       "   train_id                                    html_annotation  \\\n",
       "0  21223385  [<span>Video tổng hợp trận đấu:</span>, <span ...   \n",
       "0  21223385  [<span>Video tổng hợp trận đấu:</span>, <span ...   \n",
       "0  21223385  [<span>Video tổng hợp trận đấu:</span>, <span ...   \n",
       "0  21223385  [<span>Video tổng hợp trận đấu:</span>, <span ...   \n",
       "0  21223385  [<span>Video tổng hợp trận đấu:</span>, <span ...   \n",
       "\n",
       "                                     list_annotation  \n",
       "0  {'event_type': ':match_info:match_result:', 'e...  \n",
       "0  {'event_type': ':goal_info:', 'event_id': '2',...  \n",
       "0  {'event_type': ':goal_info:', 'event_id': '8',...  \n",
       "0  {'event_type': ':goal_info:', 'event_id': '3',...  \n",
       "0  {'event_type': ':goal_info:', 'event_id': '4',...  "
      ]
     },
     "execution_count": 23,
     "metadata": {},
     "output_type": "execute_result"
    }
   ],
   "source": [
    "df2.head()"
   ]
  },
  {
   "cell_type": "markdown",
   "metadata": {},
   "source": [
    "## Chuyển dict thành các cột text, event_type, event_id"
   ]
  },
  {
   "cell_type": "code",
   "execution_count": 27,
   "metadata": {},
   "outputs": [],
   "source": [
    "df2[\"event_type\"] = df2[\"list_annotation\"].apply(lambda doc: doc[\"event_type\"])\n",
    "df2[\"event_id\"] = df2[\"list_annotation\"].apply(lambda doc: doc[\"event_id\"])\n",
    "df2[\"text\"] = df2[\"list_annotation\"].apply(lambda doc: doc[\"text\"])"
   ]
  },
  {
   "cell_type": "code",
   "execution_count": 28,
   "metadata": {},
   "outputs": [
    {
     "data": {
      "text/html": [
       "<div>\n",
       "<style scoped>\n",
       "    .dataframe tbody tr th:only-of-type {\n",
       "        vertical-align: middle;\n",
       "    }\n",
       "\n",
       "    .dataframe tbody tr th {\n",
       "        vertical-align: top;\n",
       "    }\n",
       "\n",
       "    .dataframe thead th {\n",
       "        text-align: right;\n",
       "    }\n",
       "</style>\n",
       "<table border=\"1\" class=\"dataframe\">\n",
       "  <thead>\n",
       "    <tr style=\"text-align: right;\">\n",
       "      <th></th>\n",
       "      <th>train_id</th>\n",
       "      <th>html_annotation</th>\n",
       "      <th>list_annotation</th>\n",
       "      <th>event_type</th>\n",
       "      <th>event_id</th>\n",
       "      <th>text</th>\n",
       "    </tr>\n",
       "  </thead>\n",
       "  <tbody>\n",
       "    <tr>\n",
       "      <th>0</th>\n",
       "      <td>21223385</td>\n",
       "      <td>[&lt;span&gt;Video tổng hợp trận đấu:&lt;/span&gt;, &lt;span ...</td>\n",
       "      <td>{'event_type': ':match_info:match_result:', 'e...</td>\n",
       "      <td>:match_info:match_result:</td>\n",
       "      <td>1</td>\n",
       "      <td>Chelsea cần chiến thắng trước Stoke City ở Sta...</td>\n",
       "    </tr>\n",
       "    <tr>\n",
       "      <th>0</th>\n",
       "      <td>21223385</td>\n",
       "      <td>[&lt;span&gt;Video tổng hợp trận đấu:&lt;/span&gt;, &lt;span ...</td>\n",
       "      <td>{'event_type': ':goal_info:', 'event_id': '2',...</td>\n",
       "      <td>:goal_info:</td>\n",
       "      <td>2</td>\n",
       "      <td>Tuy vậy, 1 phút sau, Chelsea đã cụ thể hóa sức...</td>\n",
       "    </tr>\n",
       "    <tr>\n",
       "      <th>0</th>\n",
       "      <td>21223385</td>\n",
       "      <td>[&lt;span&gt;Video tổng hợp trận đấu:&lt;/span&gt;, &lt;span ...</td>\n",
       "      <td>{'event_type': ':goal_info:', 'event_id': '8',...</td>\n",
       "      <td>:goal_info:</td>\n",
       "      <td>8</td>\n",
       "      <td>Ngay đầu hiệp 2, Stoke City đã bất ngờ tìm đượ...</td>\n",
       "    </tr>\n",
       "    <tr>\n",
       "      <th>0</th>\n",
       "      <td>21223385</td>\n",
       "      <td>[&lt;span&gt;Video tổng hợp trận đấu:&lt;/span&gt;, &lt;span ...</td>\n",
       "      <td>{'event_type': ':goal_info:', 'event_id': '3',...</td>\n",
       "      <td>:goal_info:</td>\n",
       "      <td>3</td>\n",
       "      <td>Phút 57, sau pha nhả bóng của Hazard, Willian ...</td>\n",
       "    </tr>\n",
       "    <tr>\n",
       "      <th>0</th>\n",
       "      <td>21223385</td>\n",
       "      <td>[&lt;span&gt;Video tổng hợp trận đấu:&lt;/span&gt;, &lt;span ...</td>\n",
       "      <td>{'event_type': ':goal_info:', 'event_id': '4',...</td>\n",
       "      <td>:goal_info:</td>\n",
       "      <td>4</td>\n",
       "      <td>Kịch tính của trận đấu được đẩy lên khi Stoke ...</td>\n",
       "    </tr>\n",
       "  </tbody>\n",
       "</table>\n",
       "</div>"
      ],
      "text/plain": [
       "   train_id                                    html_annotation  \\\n",
       "0  21223385  [<span>Video tổng hợp trận đấu:</span>, <span ...   \n",
       "0  21223385  [<span>Video tổng hợp trận đấu:</span>, <span ...   \n",
       "0  21223385  [<span>Video tổng hợp trận đấu:</span>, <span ...   \n",
       "0  21223385  [<span>Video tổng hợp trận đấu:</span>, <span ...   \n",
       "0  21223385  [<span>Video tổng hợp trận đấu:</span>, <span ...   \n",
       "\n",
       "                                     list_annotation  \\\n",
       "0  {'event_type': ':match_info:match_result:', 'e...   \n",
       "0  {'event_type': ':goal_info:', 'event_id': '2',...   \n",
       "0  {'event_type': ':goal_info:', 'event_id': '8',...   \n",
       "0  {'event_type': ':goal_info:', 'event_id': '3',...   \n",
       "0  {'event_type': ':goal_info:', 'event_id': '4',...   \n",
       "\n",
       "                  event_type event_id  \\\n",
       "0  :match_info:match_result:        1   \n",
       "0                :goal_info:        2   \n",
       "0                :goal_info:        8   \n",
       "0                :goal_info:        3   \n",
       "0                :goal_info:        4   \n",
       "\n",
       "                                                text  \n",
       "0  Chelsea cần chiến thắng trước Stoke City ở Sta...  \n",
       "0  Tuy vậy, 1 phút sau, Chelsea đã cụ thể hóa sức...  \n",
       "0  Ngay đầu hiệp 2, Stoke City đã bất ngờ tìm đượ...  \n",
       "0  Phút 57, sau pha nhả bóng của Hazard, Willian ...  \n",
       "0  Kịch tính của trận đấu được đẩy lên khi Stoke ...  "
      ]
     },
     "execution_count": 28,
     "metadata": {},
     "output_type": "execute_result"
    }
   ],
   "source": [
    "df2.head()"
   ]
  },
  {
   "cell_type": "markdown",
   "metadata": {},
   "source": [
    "## Bỏ bớt cột không cần thiết "
   ]
  },
  {
   "cell_type": "code",
   "execution_count": 32,
   "metadata": {},
   "outputs": [],
   "source": [
    "df3 = df2.drop([\"html_annotation\", \"list_annotation\"], axis=1)"
   ]
  },
  {
   "cell_type": "code",
   "execution_count": 60,
   "metadata": {},
   "outputs": [
    {
     "data": {
      "text/html": [
       "<div>\n",
       "<style scoped>\n",
       "    .dataframe tbody tr th:only-of-type {\n",
       "        vertical-align: middle;\n",
       "    }\n",
       "\n",
       "    .dataframe tbody tr th {\n",
       "        vertical-align: top;\n",
       "    }\n",
       "\n",
       "    .dataframe thead th {\n",
       "        text-align: right;\n",
       "    }\n",
       "</style>\n",
       "<table border=\"1\" class=\"dataframe\">\n",
       "  <thead>\n",
       "    <tr style=\"text-align: right;\">\n",
       "      <th></th>\n",
       "      <th>train_id</th>\n",
       "      <th>event_type</th>\n",
       "      <th>event_id</th>\n",
       "      <th>text</th>\n",
       "      <th>goal_info</th>\n",
       "      <th>match_info</th>\n",
       "    </tr>\n",
       "  </thead>\n",
       "  <tbody>\n",
       "    <tr>\n",
       "      <th>0</th>\n",
       "      <td>21223385</td>\n",
       "      <td>:match_info:match_result:</td>\n",
       "      <td>1</td>\n",
       "      <td>Chelsea cần chiến thắng trước Stoke City ở Sta...</td>\n",
       "      <td>0</td>\n",
       "      <td>1</td>\n",
       "    </tr>\n",
       "    <tr>\n",
       "      <th>0</th>\n",
       "      <td>21223385</td>\n",
       "      <td>:goal_info:</td>\n",
       "      <td>2</td>\n",
       "      <td>Tuy vậy, 1 phút sau, Chelsea đã cụ thể hóa sức...</td>\n",
       "      <td>1</td>\n",
       "      <td>0</td>\n",
       "    </tr>\n",
       "    <tr>\n",
       "      <th>0</th>\n",
       "      <td>21223385</td>\n",
       "      <td>:goal_info:</td>\n",
       "      <td>8</td>\n",
       "      <td>Ngay đầu hiệp 2, Stoke City đã bất ngờ tìm đượ...</td>\n",
       "      <td>1</td>\n",
       "      <td>0</td>\n",
       "    </tr>\n",
       "    <tr>\n",
       "      <th>0</th>\n",
       "      <td>21223385</td>\n",
       "      <td>:goal_info:</td>\n",
       "      <td>3</td>\n",
       "      <td>Phút 57, sau pha nhả bóng của Hazard, Willian ...</td>\n",
       "      <td>1</td>\n",
       "      <td>0</td>\n",
       "    </tr>\n",
       "    <tr>\n",
       "      <th>0</th>\n",
       "      <td>21223385</td>\n",
       "      <td>:goal_info:</td>\n",
       "      <td>4</td>\n",
       "      <td>Kịch tính của trận đấu được đẩy lên khi Stoke ...</td>\n",
       "      <td>1</td>\n",
       "      <td>0</td>\n",
       "    </tr>\n",
       "  </tbody>\n",
       "</table>\n",
       "</div>"
      ],
      "text/plain": [
       "   train_id                 event_type event_id  \\\n",
       "0  21223385  :match_info:match_result:        1   \n",
       "0  21223385                :goal_info:        2   \n",
       "0  21223385                :goal_info:        8   \n",
       "0  21223385                :goal_info:        3   \n",
       "0  21223385                :goal_info:        4   \n",
       "\n",
       "                                                text  goal_info  match_info  \n",
       "0  Chelsea cần chiến thắng trước Stoke City ở Sta...          0           1  \n",
       "0  Tuy vậy, 1 phút sau, Chelsea đã cụ thể hóa sức...          1           0  \n",
       "0  Ngay đầu hiệp 2, Stoke City đã bất ngờ tìm đượ...          1           0  \n",
       "0  Phút 57, sau pha nhả bóng của Hazard, Willian ...          1           0  \n",
       "0  Kịch tính của trận đấu được đẩy lên khi Stoke ...          1           0  "
      ]
     },
     "execution_count": 60,
     "metadata": {},
     "output_type": "execute_result"
    }
   ],
   "source": [
    "df3.head()"
   ]
  },
  {
   "cell_type": "markdown",
   "metadata": {},
   "source": [
    "Bây giờ, ta xem đây là bài toán phân loại. Ta sẽ huấn luyện dữ liệu chữ (cột `text`) để dự đoán event type của cột đó. Event type có 5 loại - `goal_info`, `match_info`, `match_result`, `card_info`, `substitution` và mỗi text có thể thuộc nhiều event type."
   ]
  },
  {
   "cell_type": "markdown",
   "metadata": {},
   "source": [
    "## Tạo thêm cột cho mỗi event type \n",
    "Đó là các cột `goal_info`, `match_info`, `match_result`, `card_info`, `substitution` "
   ]
  },
  {
   "cell_type": "markdown",
   "metadata": {},
   "source": [
    "Ta thêm các cột đó để huấn luyện nhiều 1 vs many classifier. Mỗi classifier sẽ đánh giá xem text có thuộc event type đó không."
   ]
  },
  {
   "cell_type": "code",
   "execution_count": 63,
   "metadata": {},
   "outputs": [],
   "source": [
    "def get_goal_info(doc):\n",
    "    event = \"goal_info\"\n",
    "    if event in doc[\"event_type\"]:\n",
    "        return 1\n",
    "    else:\n",
    "        return "
   ]
  },
  {
   "cell_type": "code",
   "execution_count": 64,
   "metadata": {},
   "outputs": [],
   "source": [
    "def get_match_info(doc):\n",
    "    event = \"match_info\"\n",
    "    if event in doc[\"event_type\"]:\n",
    "        return 1\n",
    "    else:\n",
    "        return 0"
   ]
  },
  {
   "cell_type": "code",
   "execution_count": 65,
   "metadata": {},
   "outputs": [],
   "source": [
    "def get_match_result(doc):\n",
    "    event = \"match_result\"\n",
    "    if event in doc[\"event_type\"]:\n",
    "        return 1\n",
    "    else:\n",
    "        return 0"
   ]
  },
  {
   "cell_type": "code",
   "execution_count": 66,
   "metadata": {},
   "outputs": [],
   "source": [
    "def get_card_info(doc):\n",
    "    event = \"card_info\"\n",
    "    if event in doc[\"event_type\"]:\n",
    "        return 1\n",
    "    else:\n",
    "        return 0"
   ]
  },
  {
   "cell_type": "code",
   "execution_count": 67,
   "metadata": {},
   "outputs": [],
   "source": [
    "def get_substitution(doc):\n",
    "    event = \"substitution\"\n",
    "    if event in doc[\"event_type\"]:\n",
    "        return 1\n",
    "    else:\n",
    "        return 0"
   ]
  },
  {
   "cell_type": "code",
   "execution_count": 68,
   "metadata": {},
   "outputs": [],
   "source": [
    "df3[\"goal_info\"] = df3.apply(get_goal_info, axis=1)"
   ]
  },
  {
   "cell_type": "code",
   "execution_count": 69,
   "metadata": {},
   "outputs": [],
   "source": [
    "df3[\"match_info\"] = df3.apply(get_match_info, axis=1)"
   ]
  },
  {
   "cell_type": "code",
   "execution_count": 70,
   "metadata": {},
   "outputs": [],
   "source": [
    "df3[\"match_result\"] = df3.apply(get_match_result, axis=1)"
   ]
  },
  {
   "cell_type": "code",
   "execution_count": 71,
   "metadata": {},
   "outputs": [],
   "source": [
    "df3[\"card_info\"] = df3.apply(get_card_info, axis=1)"
   ]
  },
  {
   "cell_type": "code",
   "execution_count": 72,
   "metadata": {},
   "outputs": [],
   "source": [
    "df3[\"substitution\"] = df3.apply(get_substitution, axis=1)"
   ]
  },
  {
   "cell_type": "code",
   "execution_count": 73,
   "metadata": {},
   "outputs": [
    {
     "data": {
      "text/html": [
       "<div>\n",
       "<style scoped>\n",
       "    .dataframe tbody tr th:only-of-type {\n",
       "        vertical-align: middle;\n",
       "    }\n",
       "\n",
       "    .dataframe tbody tr th {\n",
       "        vertical-align: top;\n",
       "    }\n",
       "\n",
       "    .dataframe thead th {\n",
       "        text-align: right;\n",
       "    }\n",
       "</style>\n",
       "<table border=\"1\" class=\"dataframe\">\n",
       "  <thead>\n",
       "    <tr style=\"text-align: right;\">\n",
       "      <th></th>\n",
       "      <th>train_id</th>\n",
       "      <th>event_type</th>\n",
       "      <th>event_id</th>\n",
       "      <th>text</th>\n",
       "      <th>goal_info</th>\n",
       "      <th>match_info</th>\n",
       "      <th>match_result</th>\n",
       "      <th>card_info</th>\n",
       "      <th>substitution</th>\n",
       "    </tr>\n",
       "  </thead>\n",
       "  <tbody>\n",
       "    <tr>\n",
       "      <th>0</th>\n",
       "      <td>21223385</td>\n",
       "      <td>:match_info:match_result:</td>\n",
       "      <td>1</td>\n",
       "      <td>Chelsea cần chiến thắng trước Stoke City ở Sta...</td>\n",
       "      <td>0</td>\n",
       "      <td>1</td>\n",
       "      <td>1</td>\n",
       "      <td>0</td>\n",
       "      <td>0</td>\n",
       "    </tr>\n",
       "    <tr>\n",
       "      <th>0</th>\n",
       "      <td>21223385</td>\n",
       "      <td>:goal_info:</td>\n",
       "      <td>2</td>\n",
       "      <td>Tuy vậy, 1 phút sau, Chelsea đã cụ thể hóa sức...</td>\n",
       "      <td>1</td>\n",
       "      <td>0</td>\n",
       "      <td>0</td>\n",
       "      <td>0</td>\n",
       "      <td>0</td>\n",
       "    </tr>\n",
       "    <tr>\n",
       "      <th>0</th>\n",
       "      <td>21223385</td>\n",
       "      <td>:goal_info:</td>\n",
       "      <td>8</td>\n",
       "      <td>Ngay đầu hiệp 2, Stoke City đã bất ngờ tìm đượ...</td>\n",
       "      <td>1</td>\n",
       "      <td>0</td>\n",
       "      <td>0</td>\n",
       "      <td>0</td>\n",
       "      <td>0</td>\n",
       "    </tr>\n",
       "    <tr>\n",
       "      <th>0</th>\n",
       "      <td>21223385</td>\n",
       "      <td>:goal_info:</td>\n",
       "      <td>3</td>\n",
       "      <td>Phút 57, sau pha nhả bóng của Hazard, Willian ...</td>\n",
       "      <td>1</td>\n",
       "      <td>0</td>\n",
       "      <td>0</td>\n",
       "      <td>0</td>\n",
       "      <td>0</td>\n",
       "    </tr>\n",
       "    <tr>\n",
       "      <th>0</th>\n",
       "      <td>21223385</td>\n",
       "      <td>:goal_info:</td>\n",
       "      <td>4</td>\n",
       "      <td>Kịch tính của trận đấu được đẩy lên khi Stoke ...</td>\n",
       "      <td>1</td>\n",
       "      <td>0</td>\n",
       "      <td>0</td>\n",
       "      <td>0</td>\n",
       "      <td>0</td>\n",
       "    </tr>\n",
       "  </tbody>\n",
       "</table>\n",
       "</div>"
      ],
      "text/plain": [
       "   train_id                 event_type event_id  \\\n",
       "0  21223385  :match_info:match_result:        1   \n",
       "0  21223385                :goal_info:        2   \n",
       "0  21223385                :goal_info:        8   \n",
       "0  21223385                :goal_info:        3   \n",
       "0  21223385                :goal_info:        4   \n",
       "\n",
       "                                                text  goal_info  match_info  \\\n",
       "0  Chelsea cần chiến thắng trước Stoke City ở Sta...          0           1   \n",
       "0  Tuy vậy, 1 phút sau, Chelsea đã cụ thể hóa sức...          1           0   \n",
       "0  Ngay đầu hiệp 2, Stoke City đã bất ngờ tìm đượ...          1           0   \n",
       "0  Phút 57, sau pha nhả bóng của Hazard, Willian ...          1           0   \n",
       "0  Kịch tính của trận đấu được đẩy lên khi Stoke ...          1           0   \n",
       "\n",
       "   match_result  card_info  substitution  \n",
       "0             1          0             0  \n",
       "0             0          0             0  \n",
       "0             0          0             0  \n",
       "0             0          0             0  \n",
       "0             0          0             0  "
      ]
     },
     "execution_count": 73,
     "metadata": {},
     "output_type": "execute_result"
    }
   ],
   "source": [
    "df3.head()"
   ]
  },
  {
   "cell_type": "markdown",
   "metadata": {},
   "source": [
    "# Xong tạo data cho bài toán phân loại 1 vs all "
   ]
  },
  {
   "cell_type": "code",
   "execution_count": 75,
   "metadata": {},
   "outputs": [
    {
     "data": {
      "text/html": [
       "<div>\n",
       "<style scoped>\n",
       "    .dataframe tbody tr th:only-of-type {\n",
       "        vertical-align: middle;\n",
       "    }\n",
       "\n",
       "    .dataframe tbody tr th {\n",
       "        vertical-align: top;\n",
       "    }\n",
       "\n",
       "    .dataframe thead th {\n",
       "        text-align: right;\n",
       "    }\n",
       "</style>\n",
       "<table border=\"1\" class=\"dataframe\">\n",
       "  <thead>\n",
       "    <tr style=\"text-align: right;\">\n",
       "      <th></th>\n",
       "      <th>train_id</th>\n",
       "      <th>event_type</th>\n",
       "      <th>event_id</th>\n",
       "      <th>text</th>\n",
       "      <th>goal_info</th>\n",
       "      <th>match_info</th>\n",
       "      <th>match_result</th>\n",
       "      <th>card_info</th>\n",
       "      <th>substitution</th>\n",
       "    </tr>\n",
       "  </thead>\n",
       "  <tbody>\n",
       "    <tr>\n",
       "      <th>0</th>\n",
       "      <td>21223385</td>\n",
       "      <td>:match_info:match_result:</td>\n",
       "      <td>1</td>\n",
       "      <td>Chelsea cần chiến thắng trước Stoke City ở Sta...</td>\n",
       "      <td>0</td>\n",
       "      <td>1</td>\n",
       "      <td>1</td>\n",
       "      <td>0</td>\n",
       "      <td>0</td>\n",
       "    </tr>\n",
       "    <tr>\n",
       "      <th>0</th>\n",
       "      <td>21223385</td>\n",
       "      <td>:goal_info:</td>\n",
       "      <td>2</td>\n",
       "      <td>Tuy vậy, 1 phút sau, Chelsea đã cụ thể hóa sức...</td>\n",
       "      <td>1</td>\n",
       "      <td>0</td>\n",
       "      <td>0</td>\n",
       "      <td>0</td>\n",
       "      <td>0</td>\n",
       "    </tr>\n",
       "    <tr>\n",
       "      <th>0</th>\n",
       "      <td>21223385</td>\n",
       "      <td>:goal_info:</td>\n",
       "      <td>8</td>\n",
       "      <td>Ngay đầu hiệp 2, Stoke City đã bất ngờ tìm đượ...</td>\n",
       "      <td>1</td>\n",
       "      <td>0</td>\n",
       "      <td>0</td>\n",
       "      <td>0</td>\n",
       "      <td>0</td>\n",
       "    </tr>\n",
       "    <tr>\n",
       "      <th>0</th>\n",
       "      <td>21223385</td>\n",
       "      <td>:goal_info:</td>\n",
       "      <td>3</td>\n",
       "      <td>Phút 57, sau pha nhả bóng của Hazard, Willian ...</td>\n",
       "      <td>1</td>\n",
       "      <td>0</td>\n",
       "      <td>0</td>\n",
       "      <td>0</td>\n",
       "      <td>0</td>\n",
       "    </tr>\n",
       "    <tr>\n",
       "      <th>0</th>\n",
       "      <td>21223385</td>\n",
       "      <td>:goal_info:</td>\n",
       "      <td>4</td>\n",
       "      <td>Kịch tính của trận đấu được đẩy lên khi Stoke ...</td>\n",
       "      <td>1</td>\n",
       "      <td>0</td>\n",
       "      <td>0</td>\n",
       "      <td>0</td>\n",
       "      <td>0</td>\n",
       "    </tr>\n",
       "  </tbody>\n",
       "</table>\n",
       "</div>"
      ],
      "text/plain": [
       "   train_id                 event_type event_id  \\\n",
       "0  21223385  :match_info:match_result:        1   \n",
       "0  21223385                :goal_info:        2   \n",
       "0  21223385                :goal_info:        8   \n",
       "0  21223385                :goal_info:        3   \n",
       "0  21223385                :goal_info:        4   \n",
       "\n",
       "                                                text  goal_info  match_info  \\\n",
       "0  Chelsea cần chiến thắng trước Stoke City ở Sta...          0           1   \n",
       "0  Tuy vậy, 1 phút sau, Chelsea đã cụ thể hóa sức...          1           0   \n",
       "0  Ngay đầu hiệp 2, Stoke City đã bất ngờ tìm đượ...          1           0   \n",
       "0  Phút 57, sau pha nhả bóng của Hazard, Willian ...          1           0   \n",
       "0  Kịch tính của trận đấu được đẩy lên khi Stoke ...          1           0   \n",
       "\n",
       "   match_result  card_info  substitution  \n",
       "0             1          0             0  \n",
       "0             0          0             0  \n",
       "0             0          0             0  \n",
       "0             0          0             0  \n",
       "0             0          0             0  "
      ]
     },
     "execution_count": 75,
     "metadata": {},
     "output_type": "execute_result"
    }
   ],
   "source": [
    "df3.head() "
   ]
  },
  {
   "cell_type": "markdown",
   "metadata": {},
   "source": [
    "Label là các cột `goal_info`, `match_info`, `match_result`, `card_info`, `substitution`"
   ]
  },
  {
   "cell_type": "markdown",
   "metadata": {},
   "source": [
    "Lưu ra .csv"
   ]
  },
  {
   "cell_type": "code",
   "execution_count": 78,
   "metadata": {},
   "outputs": [],
   "source": [
    "df3.to_csv(\"data/event_classifier_1_vs_many.csv\", index=False)"
   ]
  },
  {
   "cell_type": "code",
   "execution_count": null,
   "metadata": {},
   "outputs": [],
   "source": []
  }
 ],
 "metadata": {
  "kernelspec": {
   "display_name": "Python 3",
   "language": "python",
   "name": "python3"
  },
  "language_info": {
   "codemirror_mode": {
    "name": "ipython",
    "version": 3
   },
   "file_extension": ".py",
   "mimetype": "text/x-python",
   "name": "python",
   "nbconvert_exporter": "python",
   "pygments_lexer": "ipython3",
   "version": "3.8.5"
  }
 },
 "nbformat": 4,
 "nbformat_minor": 4
}
